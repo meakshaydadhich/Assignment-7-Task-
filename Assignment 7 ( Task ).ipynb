{
 "cells": [
  {
   "cell_type": "code",
   "execution_count": 16,
   "id": "bb5378ee",
   "metadata": {},
   "outputs": [],
   "source": [
    "# Q1. Create a function which will take a list as an argument and return the product of all the numbers after creating a flat \n",
    "#     list.\n",
    "#     Use the below-given list as an argument for your function.\n",
    "\n",
    "# list1 = [1,2,3,4, [44,55,66, True], False, (34,56,78,89,34), {1,2,3,3,2,1}, {1:34, \"key2\": [55, 67, 78, 89],\n",
    "# 4: (45, 22, 61, 34)}, [56, 'data science'], 'Machine Learning']\n",
    "\n",
    "# Note: you must extract numeric keys and values of the dictionary also.\n",
    "\n",
    "# Ans. \n",
    "list1 = [1, 2, 3, 4, [44, 55, 66, True], False, (34, 56, 78, 89, 34), \n",
    "         {1, 2, 3, 3, 2, 1}, {1: 34, \"key2\": [55, 67, 78, 89], 4: (45, 22, 61, 34)}, \n",
    "         [56, 'data science'], 'Machine Learning']\n",
    "list2 = []\n",
    "def product(a):\n",
    "    for i in a:\n",
    "        if type(i) == int:\n",
    "            list2.append(i)\n",
    "        elif type(i) == list or type(i) == tuple or type(i) == set:\n",
    "            product(i)                       # Recursively process nested lists, tuples, or sets\n",
    "#             for j in i:\n",
    "#                 if type(j) == int:\n",
    "#                     list2.append(j)\n",
    "#          elif type(i) == tuple:\n",
    "#             for k in i:\n",
    "#                 if type(k) == int:\n",
    "#                     list2.append(k)\n",
    "#         elif type(i) == set:\n",
    "#             for m in i:\n",
    "#                 if type(m) == int:\n",
    "#                     list2.append(m)\n",
    "        elif type(i) == dict:\n",
    "            for key,value in i.items():\n",
    "                if type(key) == int:\n",
    "                    list2.append(key)\n",
    "                if type(value) == int:\n",
    "                    list2.append(value)\n",
    "                elif type(value) == list or type(value) == tuple:\n",
    "                    product(value)            # Recursively process nested structures in dict values\n",
    "#                     for n in value:\n",
    "#                         list2.append(n)\n",
    "#                 elif type(value) == tuple:\n",
    "#                     for n in value:\n",
    "#                         list2.append(n)\n",
    "                        \n",
    "    return list2\n",
    "\n",
    "\n",
    "\n",
    "        \n",
    "        "
   ]
  },
  {
   "cell_type": "code",
   "execution_count": 17,
   "id": "687eba95",
   "metadata": {},
   "outputs": [
    {
     "name": "stdout",
     "output_type": "stream",
     "text": [
      "[1, 2, 3, 4, 44, 55, 66, 34, 56, 78, 89, 34, 1, 2, 3, 1, 34, 55, 67, 78, 89, 4, 45, 22, 61, 34, 56] "
     ]
    }
   ],
   "source": [
    "result = product(list1)\n",
    "print(result, end=\" \")"
   ]
  },
  {
   "cell_type": "code",
   "execution_count": 18,
   "id": "800f703f",
   "metadata": {},
   "outputs": [
    {
     "name": "stdout",
     "output_type": "stream",
     "text": [
      "product of all number in the list :  4134711838987085478833841242112000\n"
     ]
    }
   ],
   "source": [
    "mul = 1\n",
    "for i in list2:\n",
    "    mul *= i\n",
    "print(\"product of all number in the list : \", mul)"
   ]
  },
  {
   "cell_type": "code",
   "execution_count": 21,
   "id": "a016909d",
   "metadata": {},
   "outputs": [
    {
     "name": "stdout",
     "output_type": "stream",
     "text": [
      "enter your sentence here: I want to become a Data Scientist\n",
      "encrypted_sentence=  r$dzmg$gl$yvxlnv$z$wzgz$hxrvmgrhg\n"
     ]
    }
   ],
   "source": [
    "# Q2. Write a python program for encrypting a message sent to you by your friend. The logic of encryption should be such that,\n",
    "#     for a the output should be z. For b, the output should be y. For c, the output should be x respectively. Also, the\n",
    "#     whitespace should be replaced with a dollar sign. Keep the punctuation marks unchanged.\n",
    "\n",
    "# Input Sentence: I want to become a Data Scientist.\n",
    "# Encrypt the above input sentence using the program you just created.\n",
    "#Note: Convert the given input sentence into lowercase before encrypting. The final output should be lowercase. \n",
    "\n",
    "# Ans.\n",
    "def encryptingMSG(message):\n",
    "    encrypted_message = \"\"\n",
    "    for char in message:\n",
    "        if char.isalpha():\n",
    "            encrypted_char = chr(122-(ord(char)-97))\n",
    "        elif char == \" \":\n",
    "            encrypted_char = '$'\n",
    "        else:\n",
    "            encrypted_char = char \n",
    "        encrypted_message += encrypted_char\n",
    "    return encrypted_message\n",
    "\n",
    "input_sentence = input(\"enter your sentence here: \")\n",
    "input_sentence = input_sentence.lower()\n",
    "encrypted_sentence = encryptingMSG(input_sentence)\n",
    "print('encrypted_sentence= ', encrypted_sentence)"
   ]
  },
  {
   "cell_type": "code",
   "execution_count": null,
   "id": "d18878d9",
   "metadata": {},
   "outputs": [],
   "source": []
  }
 ],
 "metadata": {
  "kernelspec": {
   "display_name": "Python 3 (ipykernel)",
   "language": "python",
   "name": "python3"
  },
  "language_info": {
   "codemirror_mode": {
    "name": "ipython",
    "version": 3
   },
   "file_extension": ".py",
   "mimetype": "text/x-python",
   "name": "python",
   "nbconvert_exporter": "python",
   "pygments_lexer": "ipython3",
   "version": "3.10.9"
  }
 },
 "nbformat": 4,
 "nbformat_minor": 5
}
